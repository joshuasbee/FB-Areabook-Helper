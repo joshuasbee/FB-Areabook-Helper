{
  "cells": [
    {
      "cell_type": "markdown",
      "metadata": {
        "id": "view-in-github",
        "colab_type": "text"
      },
      "source": [
        "<a href=\"https://colab.research.google.com/github/joshuasbee/FB-Areabook-Helper/blob/main/FB_Areabook_1.ipynb\" target=\"_parent\"><img src=\"https://colab.research.google.com/assets/colab-badge.svg\" alt=\"Open In Colab\"/></a>"
      ]
    },
    {
      "cell_type": "markdown",
      "metadata": {
        "id": "QbCTwPQXR4iU"
      },
      "source": [
        "**Only run block A when you first open this program**, not every time or you will have issues."
      ]
    },
    {
      "cell_type": "code",
      "execution_count": null,
      "metadata": {
        "colab": {
          "base_uri": "https://localhost:8080/"
        },
        "id": "cn-_NfawxI73",
        "outputId": "61bbddef-caeb-4c21-98a5-499b38b73ec1"
      },
      "outputs": [
        {
          "output_type": "stream",
          "name": "stdout",
          "text": [
            "Mounted at /content/drive/\n",
            "/content/drive/My Drive/FBAB\n"
          ]
        }
      ],
      "source": [
        "# Block A\n",
        "# Load the drive helper and mount\n",
        "from google.colab import drive\n",
        "drive.flush_and_unmount()\n",
        "drive.mount('/content/drive/')\n",
        "# Navigate to the FBAB folder which has names.txt inside\n",
        "%cd /content/drive/My Drive/FBAB"
      ]
    },
    {
      "cell_type": "markdown",
      "metadata": {
        "id": "XyZYw13QErrp"
      },
      "source": [
        "<ins>**Paste the names in the block below**</ins>"
      ]
    },
    {
      "cell_type": "code",
      "execution_count": null,
      "metadata": {
        "colab": {
          "base_uri": "https://localhost:8080/"
        },
        "id": "Bu1Zxp50ylry",
        "outputId": "cd4ed817-92d1-4ace-84e2-06c3ce660e39"
      },
      "outputs": [
        {
          "output_type": "stream",
          "name": "stdout",
          "text": [
            "['Angelo Rakotomamonjy', 'Elias Abebe Ab', 'Lovemore Maruta', 'Jonathan Thindwa', 'Owam Twani', 'Jeanette Mafu', 'አምበሉ ሰብስቤ', 'Gerald Krige', 'Sikholise Mbikwana', 'James Erickson', 'Nikita Mangxola', 'Sinovuyo Stemele', 'Esteem Ngcokomfi', 'Nthatisi Moleleki', 'Sitota Amado Botore', 'Karabo Lincoln Nemakhavhani', 'Sibulele Mpushe', 'Hilton Tshuma', 'Mervin Levis Drude', 'Peach Archers Hobongwana', 'Anele Phillip', 'Younger Lamla', 'Richard Essumang', 'Denis Jonathan Erasmus']\n"
          ]
        }
      ],
      "source": [
        "import re\n",
        "# Open the text file and insert it into variable \"namesMaster\"\n",
        "with open('names.txt', 'r') as f:\n",
        "  namesMaster = f.read()\n",
        "# convert str to List\n",
        "namesMaster = namesMaster.split('\\n')\n",
        "# Paste the new names directly into this code cell between the set of these: \"\"\"\n",
        "pasted_data = \"\"\"\n",
        "\n",
        "Elias Ab lastname\n",
        "Sikholise lastname\n",
        "Nikita lastname\n",
        "\n",
        "\n",
        "\n",
        "\"\"\"\n",
        "\n",
        "# Split the pasted data into lines\n",
        "lines = pasted_data.split('\\n')\n",
        "# Filter out empty lines\n",
        "inplist = [line.strip() for line in lines if line.strip()]\n",
        "print(inplist)"
      ]
    },
    {
      "cell_type": "code",
      "execution_count": null,
      "metadata": {
        "colab": {
          "base_uri": "https://localhost:8080/"
        },
        "id": "dvRE8uwM01Ur",
        "outputId": "a57f5ed7-11e3-477a-dec3-a635b3c0062d"
      },
      "outputs": [
        {
          "output_type": "stream",
          "name": "stdout",
          "text": [
            "Copy and paste this into the CTRL + H menu on google sheets, and click use regular expressions:\n",
            "\n",
            "(\\d+\\s*(mutual friends|mutual friend))|^(Message|Add friend|Follow|Invited|Invite|Following\\|Angelo\\ Rakotomamonjy|Sinovuyo\\ Stemele|Sibulele\\ Mpushe|Denis\\ Jonathan\\ Erasmus|Richard\\ Essumang|Elias\\ Abebe\\ Ab|Karabo\\ Lincoln\\ Nemakhavhani|Mervin\\ Levis\\ Drude|Anele\\ Phillip|Nikita\\ Mangxola|Younger\\ Lamla|Jeanette\\ Mafu|Sitota\\ Amado\\ Botore|አምበሉ\\ ሰብስቤ|Esteem\\ Ngcokomfi|Hilton\\ Tshuma|Owam\\ Twani|James\\ Erickson|Peach\\ Archers\\ Hobongwana|Nthatisi\\ Moleleki|Sikholise\\ Mbikwana)\n"
          ]
        }
      ],
      "source": [
        "oldRegx = '(\\d+\\s*(mutual friends|mutual friend))|^(Message|Add friend|Follow|Invited|Invite|Following'\n",
        "msg = 'Copy and paste this into the CTRL + H menu on google sheets, and click use regular expressions:'\n",
        "# Make namesMaster into a set to avoid repeating items\n",
        "namesMasterSet = set(namesMaster)\n",
        "# check for duplicates\n",
        "dupes = namesMasterSet.intersection(inplist)\n",
        "\n",
        "# Create a regular expression pattern to match the duplicated names\n",
        "duplicated_pattern = \"|\".join(re.escape(name) for name in dupes)\n",
        "if dupes:\n",
        "  print(f\"{msg}\\n\\n{oldRegx}\\|{duplicated_pattern})\")\n",
        "else:\n",
        "  print(f'{msg}\\n\\n{oldRegx})')"
      ]
    },
    {
      "cell_type": "code",
      "execution_count": null,
      "metadata": {
        "id": "zFudaq3Z5-WO"
      },
      "outputs": [],
      "source": [
        "#Remove duplicates from input\n",
        "for item in dupes:\n",
        "    if item in inplist:\n",
        "        inplist.remove(item)\n",
        "# Append non duplicates to namesMaster\n",
        "namesMaster.extend(inplist)"
      ]
    },
    {
      "cell_type": "code",
      "execution_count": null,
      "metadata": {
        "colab": {
          "base_uri": "https://localhost:8080/"
        },
        "id": "fCBON-VD0xHi",
        "outputId": "583e8ae8-690f-47bc-b933-896961088a5d"
      },
      "outputs": [
        {
          "output_type": "stream",
          "name": "stdout",
          "text": [
            "0: Lovemore Maruta\n",
            "1: Jonathan Thindwa\n",
            "2: Gerald Krige\n",
            "Done\n"
          ]
        }
      ],
      "source": [
        "# write to a file:\n",
        "with open('names.txt', 'a') as f:\n",
        "    for item in range(len(inplist)):\n",
        "          print(f'{item}: {inplist[item]}')\n",
        "          f.write(f'\\n{inplist[item]}')\n",
        "    print('Done')"
      ]
    },
    {
      "cell_type": "code",
      "execution_count": null,
      "metadata": {
        "id": "-geOONbv4Nf1"
      },
      "outputs": [],
      "source": [
      ]
    }
  ],
  "metadata": {
    "colab": {
      "provenance": [],
      "include_colab_link": true
    },
    "kernelspec": {
      "display_name": "Python 3",
      "name": "python3"
    },
    "language_info": {
      "name": "python"
    }
  },
  "nbformat": 4,
  "nbformat_minor": 0
}
